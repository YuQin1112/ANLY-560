{
 "cells": [
  {
   "cell_type": "markdown",
   "metadata": {},
   "source": [
    "Object Oriented Programming focuses on what component should be created to achieve our program's goal and how each component interact with each other. \n",
    "\n",
    "a well designed OOP code will minimize the code lenght by exctracting all generic functions into class method and reuse the class method every time. it will also improve code readablilty since code will be shorter and more strutrural, we can also carefully assign the methods name to make our code look like real human language.\n",
    "\n",
    "#### Q1 \n",
    "We create a DB handler class that takes care of one specific purpose: read `film.film_id`, `film.title`, `category.category_id`, `category.name` for all movies that rating as 'PG' and category name as 'Action'. since we only want to take care of this one task, there is only one method in the class.\n",
    "\n",
    "#### Q2 \n",
    "We want to handle generic DB read and write, and let user input there query upon every read and write function call, hence we created two method in the class: `read()` and `write()`, we also handles DB connection in class constructor, and created a `closeConnection()` method to close the connection when we finish the code execution.\n",
    "\n",
    "in the main thread of the code, by having generic read and write function defined in class, all what we do is to form up SQL query and call the class method to read and write to DB. By having the class we can re-use the read and write function without bothering to write those code again and again. "
   ]
  },
  {
   "cell_type": "code",
   "execution_count": null,
   "metadata": {},
   "outputs": [],
   "source": []
  }
 ],
 "metadata": {
  "kernelspec": {
   "display_name": "Python 3",
   "language": "python",
   "name": "python3"
  },
  "language_info": {
   "codemirror_mode": {
    "name": "ipython",
    "version": 3
   },
   "file_extension": ".py",
   "mimetype": "text/x-python",
   "name": "python",
   "nbconvert_exporter": "python",
   "pygments_lexer": "ipython3",
   "version": "3.7.7"
  }
 },
 "nbformat": 4,
 "nbformat_minor": 4
}
